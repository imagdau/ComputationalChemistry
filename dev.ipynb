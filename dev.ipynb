{
 "cells": [
  {
   "cell_type": "markdown",
   "id": "92fe441f",
   "metadata": {},
   "source": [
    "[![Open In Colab](https://colab.research.google.com/assets/colab-badge.svg)](https://colab.research.google.com/github/imagdau/ComputationalChemistry/blob/main/dev.ipynb)\n"
   ]
  }
 ],
 "metadata": {
  "language_info": {
   "name": "python"
  }
 },
 "nbformat": 4,
 "nbformat_minor": 5
}
