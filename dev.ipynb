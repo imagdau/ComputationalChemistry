{
 "cells": [
  {
   "cell_type": "markdown",
   "id": "92fe441f",
   "metadata": {},
   "source": [
    "[![Open In Colab](https://colab.research.google.com/assets/colab-badge.svg)](https://colab.research.google.com/github/imagdau/ComputationalChemistry/blob/main/dev.ipynb)\n"
   ]
  },
  {
   "cell_type": "code",
   "execution_count": 2,
   "id": "cb6dbae8",
   "metadata": {},
   "outputs": [
    {
     "data": {
      "text/html": [
       "<script type=\"text/javascript\" language=\"javascript\" src=\"https://users.ox.ac.uk/~bioc1451/jsme/jsme.nocache.js\"></script><script>window.smiles = \"CCO\";\n",
       " window.py_obj_id = 4620396432;\n",
       "window.container_id = \"jsme_container_288774777\";\n",
       "window.py_class_name = \"JSMENotebook\";\n",
       "window.desired_height = \"340px\";\n",
       "window.desired_width = \"380px\";\n",
       "\n",
       "                     //this function will be called after the JavaScriptApplet code has been loaded.\n",
       "                         function jsmeOnLoad() {\n",
       "                             const params = {smiles: smiles || undefined};\n",
       "                             const jsmeApplet = new JSApplet.JSME(window.container_id, \n",
       "                                                                  window.desired_width,\n",
       "                                                                  window.desired_height, \n",
       "                                                                  params);\n",
       "                             window.jsmeApplet = jsmeApplet;\n",
       "                             jsmeApplet.setCallBack(\"AfterStructureModified\", async (jsme) => {\n",
       "                               smiles = jsmeApplet.smiles();\n",
       "                               // in Jupyter this is called output_area. Colab #output-area\n",
       "                               // let el = document.createElement('div');\n",
       "                               // el.textContent = smiles\n",
       "                               // document.querySelector(\"#output_area,#output-area\").appendChild(el);\n",
       "                               if (window.google !== undefined) {\n",
       "                                 await google.colab.kernel.invokeFunction('notebook.set_smiles', [smiles]);\n",
       "                              } else if (window.Jupyter !== undefined) {\n",
       "                              console.log(`JSMEHack.get_by_id(${py_obj_id}).smiles = '${smiles}'`);\n",
       "                             Jupyter.notebook.kernel.execute(`${py_class_name}.get_by_id(${py_obj_id}).smiles = '${smiles}'`);\n",
       "                               }\n",
       "                               else {throw \"Unknown environment\";}\n",
       "                             });\n",
       "                       }\n",
       "                     </script><div id=\"jsme_container_288774777\"></div>"
      ],
      "text/plain": [
       "<IPython.core.display.HTML object>"
      ]
     },
     "metadata": {},
     "output_type": "display_data"
    },
    {
     "name": "stdout",
     "output_type": "stream",
     "text": [
      "Change the molecule!\n"
     ]
    }
   ],
   "source": [
    "# Basic usage\n",
    "from jsme_notebook import JSMENotebook\n",
    "smiles = 'CCO' #@param {type:\"string\"}\n",
    "jsme = JSMENotebook(smiles)\n",
    "print('Change the molecule!')"
   ]
  },
  {
   "cell_type": "code",
   "execution_count": 2,
   "id": "17d15560",
   "metadata": {},
   "outputs": [
    {
     "data": {
      "text/plain": [
       "'CCO'"
      ]
     },
     "execution_count": 2,
     "metadata": {},
     "output_type": "execute_result"
    }
   ],
   "source": [
    "jsme.smiles"
   ]
  },
  {
   "cell_type": "code",
   "execution_count": 3,
   "id": "9b46585d",
   "metadata": {},
   "outputs": [
    {
     "data": {
      "text/html": [
       "<script type=\"text/javascript\" language=\"javascript\" src=\"https://users.ox.ac.uk/~bioc1451/jsme/jsme.nocache.js\"></script><script>window.smiles = \"CCO\";\n",
       " window.py_obj_id = 4722789136;\n",
       "window.container_id = \"jsme_container_295174321\";\n",
       "window.py_class_name = \"JSMERDKit\";\n",
       "window.desired_height = \"340px\";\n",
       "window.desired_width = \"380px\";\n",
       "\n",
       "                     //this function will be called after the JavaScriptApplet code has been loaded.\n",
       "                         function jsmeOnLoad() {\n",
       "                             const params = {smiles: smiles || undefined};\n",
       "                             const jsmeApplet = new JSApplet.JSME(window.container_id, \n",
       "                                                                  window.desired_width,\n",
       "                                                                  window.desired_height, \n",
       "                                                                  params);\n",
       "                             window.jsmeApplet = jsmeApplet;\n",
       "                             jsmeApplet.setCallBack(\"AfterStructureModified\", async (jsme) => {\n",
       "                               smiles = jsmeApplet.smiles();\n",
       "                               // in Jupyter this is called output_area. Colab #output-area\n",
       "                               // let el = document.createElement('div');\n",
       "                               // el.textContent = smiles\n",
       "                               // document.querySelector(\"#output_area,#output-area\").appendChild(el);\n",
       "                               if (window.google !== undefined) {\n",
       "                                 await google.colab.kernel.invokeFunction('notebook.set_smiles', [smiles]);\n",
       "                              } else if (window.Jupyter !== undefined) {\n",
       "                              console.log(`JSMEHack.get_by_id(${py_obj_id}).smiles = '${smiles}'`);\n",
       "                             Jupyter.notebook.kernel.execute(`${py_class_name}.get_by_id(${py_obj_id}).smiles = '${smiles}'`);\n",
       "                               }\n",
       "                               else {throw \"Unknown environment\";}\n",
       "                             });\n",
       "                       }\n",
       "                     </script><div id=\"jsme_container_295174321\"></div>"
      ],
      "text/plain": [
       "<IPython.core.display.HTML object>"
      ]
     },
     "metadata": {},
     "output_type": "display_data"
    }
   ],
   "source": [
    "from rdkit import Chem\n",
    "\n",
    "from jsme_notebook.rdkit import JSMERDKit\n",
    "\n",
    "mol = Chem.MolFromSmiles(smiles)\n",
    "\n",
    "rd_jsme = JSMERDKit(mol)\n",
    "     "
   ]
  },
  {
   "cell_type": "code",
   "execution_count": 4,
   "id": "5b9b1d93",
   "metadata": {},
   "outputs": [
    {
     "data": {
      "image/png": "[encoded data removed]",
      "text/plain": [
       "<rdkit.Chem.rdchem.Mol at 0x11e0b19a0>"
      ]
     },
     "execution_count": 4,
     "metadata": {},
     "output_type": "execute_result"
    }
   ],
   "source": [
    "from rdkit.Chem.Draw import IPythonConsole\n",
    "rd_jsme.mol"
   ]
  },
  {
   "cell_type": "code",
   "execution_count": 1,
   "id": "1957bfc4",
   "metadata": {},
   "outputs": [
    {
     "name": "stderr",
     "output_type": "stream",
     "text": [
      "2025-09-09 13:11:59.584 Thread 'MainThread': missing ScriptRunContext! This warning can be ignored when running in bare mode.\n",
      "2025-09-09 13:11:59.585 Thread 'MainThread': missing ScriptRunContext! This warning can be ignored when running in bare mode.\n",
      "2025-09-09 13:11:59.585 Thread 'MainThread': missing ScriptRunContext! This warning can be ignored when running in bare mode.\n",
      "2025-09-09 13:11:59.586 Thread 'MainThread': missing ScriptRunContext! This warning can be ignored when running in bare mode.\n",
      "2025-09-09 13:11:59.586 Thread 'MainThread': missing ScriptRunContext! This warning can be ignored when running in bare mode.\n",
      "2025-09-09 13:11:59.587 Session state does not function when running a script without `streamlit run`\n",
      "2025-09-09 13:11:59.588 Thread 'MainThread': missing ScriptRunContext! This warning can be ignored when running in bare mode.\n",
      "2025-09-09 13:11:59.621 \n",
      "  \u001b[33m\u001b[1mWarning:\u001b[0m to view this Streamlit app on a browser, run it with the following\n",
      "  command:\n",
      "\n",
      "    streamlit run /opt/miniconda3/envs/ComputationalChemistry/lib/python3.11/site-packages/ipykernel_launcher.py [ARGUMENTS]\n",
      "2025-09-09 13:11:59.622 Thread 'MainThread': missing ScriptRunContext! This warning can be ignored when running in bare mode.\n",
      "2025-09-09 13:11:59.623 Thread 'MainThread': missing ScriptRunContext! This warning can be ignored when running in bare mode.\n",
      "2025-09-09 13:12:02.651 Thread 'MainThread': missing ScriptRunContext! This warning can be ignored when running in bare mode.\n",
      "2025-09-09 13:12:02.651 Thread 'MainThread': missing ScriptRunContext! This warning can be ignored when running in bare mode.\n",
      "2025-09-09 13:12:02.652 Thread 'MainThread': missing ScriptRunContext! This warning can be ignored when running in bare mode.\n",
      "2025-09-09 13:12:02.653 Thread 'MainThread': missing ScriptRunContext! This warning can be ignored when running in bare mode.\n",
      "2025-09-09 13:12:02.654 Thread 'MainThread': missing ScriptRunContext! This warning can be ignored when running in bare mode.\n",
      "2025-09-09 13:12:02.655 Thread 'MainThread': missing ScriptRunContext! This warning can be ignored when running in bare mode.\n",
      "2025-09-09 13:12:02.655 Thread 'MainThread': missing ScriptRunContext! This warning can be ignored when running in bare mode.\n",
      "2025-09-09 13:12:02.656 Thread 'MainThread': missing ScriptRunContext! This warning can be ignored when running in bare mode.\n"
     ]
    },
    {
     "data": {
      "text/plain": [
       "DeltaGenerator()"
      ]
     },
     "execution_count": 1,
     "metadata": {},
     "output_type": "execute_result"
    }
   ],
   "source": [
    "import streamlit as st\n",
    "\n",
    "from streamlit_ketcher import st_ketcher\n",
    "\n",
    "molecule = st.text_input(\"Molecule\", \"CCO\")\n",
    "smile_code = st_ketcher(molecule)\n",
    "st.markdown(f\"Smile code: ``{smile_code}``\")"
   ]
  }
 ],
 "metadata": {
  "kernelspec": {
   "display_name": "ComputationalChemistry",
   "language": "python",
   "name": "python3"
  },
  "language_info": {
   "codemirror_mode": {
    "name": "ipython",
    "version": 3
   },
   "file_extension": ".py",
   "mimetype": "text/x-python",
   "name": "python",
   "nbconvert_exporter": "python",
   "pygments_lexer": "ipython3",
   "version": "3.11.13"
  }
 },
 "nbformat": 4,
 "nbformat_minor": 5
}
