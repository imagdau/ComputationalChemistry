{
 "cells": [
  {
   "cell_type": "markdown",
   "id": "92fe441f",
   "metadata": {},
   "source": [
    "[![Open In Colab](https://colab.research.google.com/assets/colab-badge.svg)](https://colab.research.google.com/github/imagdau/ComputationalChemistry/blob/main/dev.ipynb)\n"
   ]
  },
  {
   "cell_type": "code",
   "execution_count": 2,
   "id": "cb6dbae8",
   "metadata": {},
   "outputs": [
    {
     "data": {
      "text/html": [
       "<script type=\"text/javascript\" language=\"javascript\" src=\"https://users.ox.ac.uk/~bioc1451/jsme/jsme.nocache.js\"></script><script>window.smiles = \"CCO\";\n",
       " window.py_obj_id = 4620396432;\n",
       "window.container_id = \"jsme_container_288774777\";\n",
       "window.py_class_name = \"JSMENotebook\";\n",
       "window.desired_height = \"340px\";\n",
       "window.desired_width = \"380px\";\n",
       "\n",
       "                     //this function will be called after the JavaScriptApplet code has been loaded.\n",
       "                         function jsmeOnLoad() {\n",
       "                             const params = {smiles: smiles || undefined};\n",
       "                             const jsmeApplet = new JSApplet.JSME(window.container_id, \n",
       "                                                                  window.desired_width,\n",
       "                                                                  window.desired_height, \n",
       "                                                                  params);\n",
       "                             window.jsmeApplet = jsmeApplet;\n",
       "                             jsmeApplet.setCallBack(\"AfterStructureModified\", async (jsme) => {\n",
       "                               smiles = jsmeApplet.smiles();\n",
       "                               // in Jupyter this is called output_area. Colab #output-area\n",
       "                               // let el = document.createElement('div');\n",
       "                               // el.textContent = smiles\n",
       "                               // document.querySelector(\"#output_area,#output-area\").appendChild(el);\n",
       "                               if (window.google !== undefined) {\n",
       "                                 await google.colab.kernel.invokeFunction('notebook.set_smiles', [smiles]);\n",
       "                              } else if (window.Jupyter !== undefined) {\n",
       "                              console.log(`JSMEHack.get_by_id(${py_obj_id}).smiles = '${smiles}'`);\n",
       "                             Jupyter.notebook.kernel.execute(`${py_class_name}.get_by_id(${py_obj_id}).smiles = '${smiles}'`);\n",
       "                               }\n",
       "                               else {throw \"Unknown environment\";}\n",
       "                             });\n",
       "                       }\n",
       "                     </script><div id=\"jsme_container_288774777\"></div>"
      ],
      "text/plain": [
       "<IPython.core.display.HTML object>"
      ]
     },
     "metadata": {},
     "output_type": "display_data"
    },
    {
     "name": "stdout",
     "output_type": "stream",
     "text": [
      "Change the molecule!\n"
     ]
    }
   ],
   "source": [
    "# Basic usage\n",
    "from jsme_notebook import JSMENotebook\n",
    "smiles = 'CCO' #@param {type:\"string\"}\n",
    "jsme = JSMENotebook(smiles)\n",
    "print('Change the molecule!')"
   ]
  },
  {
   "cell_type": "code",
   "execution_count": 2,
   "id": "17d15560",
   "metadata": {},
   "outputs": [
    {
     "data": {
      "text/plain": [
       "'CCO'"
      ]
     },
     "execution_count": 2,
     "metadata": {},
     "output_type": "execute_result"
    }
   ],
   "source": [
    "jsme.smiles"
   ]
  },
  {
   "cell_type": "code",
   "execution_count": 3,
   "id": "9b46585d",
   "metadata": {},
   "outputs": [
    {
     "data": {
      "text/html": [
       "<script type=\"text/javascript\" language=\"javascript\" src=\"https://users.ox.ac.uk/~bioc1451/jsme/jsme.nocache.js\"></script><script>window.smiles = \"CCO\";\n",
       " window.py_obj_id = 4722789136;\n",
       "window.container_id = \"jsme_container_295174321\";\n",
       "window.py_class_name = \"JSMERDKit\";\n",
       "window.desired_height = \"340px\";\n",
       "window.desired_width = \"380px\";\n",
       "\n",
       "                     //this function will be called after the JavaScriptApplet code has been loaded.\n",
       "                         function jsmeOnLoad() {\n",
       "                             const params = {smiles: smiles || undefined};\n",
       "                             const jsmeApplet = new JSApplet.JSME(window.container_id, \n",
       "                                                                  window.desired_width,\n",
       "                                                                  window.desired_height, \n",
       "                                                                  params);\n",
       "                             window.jsmeApplet = jsmeApplet;\n",
       "                             jsmeApplet.setCallBack(\"AfterStructureModified\", async (jsme) => {\n",
       "                               smiles = jsmeApplet.smiles();\n",
       "                               // in Jupyter this is called output_area. Colab #output-area\n",
       "                               // let el = document.createElement('div');\n",
       "                               // el.textContent = smiles\n",
       "                               // document.querySelector(\"#output_area,#output-area\").appendChild(el);\n",
       "                               if (window.google !== undefined) {\n",
       "                                 await google.colab.kernel.invokeFunction('notebook.set_smiles', [smiles]);\n",
       "                              } else if (window.Jupyter !== undefined) {\n",
       "                              console.log(`JSMEHack.get_by_id(${py_obj_id}).smiles = '${smiles}'`);\n",
       "                             Jupyter.notebook.kernel.execute(`${py_class_name}.get_by_id(${py_obj_id}).smiles = '${smiles}'`);\n",
       "                               }\n",
       "                               else {throw \"Unknown environment\";}\n",
       "                             });\n",
       "                       }\n",
       "                     </script><div id=\"jsme_container_295174321\"></div>"
      ],
      "text/plain": [
       "<IPython.core.display.HTML object>"
      ]
     },
     "metadata": {},
     "output_type": "display_data"
    }
   ],
   "source": [
    "from rdkit import Chem\n",
    "\n",
    "from jsme_notebook.rdkit import JSMERDKit\n",
    "\n",
    "mol = Chem.MolFromSmiles(smiles)\n",
    "\n",
    "rd_jsme = JSMERDKit(mol)\n",
    "     "
   ]
  },
  {
   "cell_type": "code",
   "execution_count": 4,
   "id": "5b9b1d93",
   "metadata": {},
   "outputs": [
    {
     "data": {
      "image/png": "[encoded data removed]",
      "text/plain": [
       "<rdkit.Chem.rdchem.Mol at 0x11e0b19a0>"
      ]
     },
     "execution_count": 4,
     "metadata": {},
     "output_type": "execute_result"
    }
   ],
   "source": [
    "from rdkit.Chem.Draw import IPythonConsole\n",
    "rd_jsme.mol"
   ]
  },
  {
   "cell_type": "code",
   "execution_count": 1,
   "id": "1957bfc4",
   "metadata": {},
   "outputs": [
    {
     "name": "stderr",
     "output_type": "stream",
     "text": [
      "2025-09-09 13:11:59.584 Thread 'MainThread': missing ScriptRunContext! This warning can be ignored when running in bare mode.\n",
      "2025-09-09 13:11:59.585 Thread 'MainThread': missing ScriptRunContext! This warning can be ignored when running in bare mode.\n",
      "2025-09-09 13:11:59.585 Thread 'MainThread': missing ScriptRunContext! This warning can be ignored when running in bare mode.\n",
      "2025-09-09 13:11:59.586 Thread 'MainThread': missing ScriptRunContext! This warning can be ignored when running in bare mode.\n",
      "2025-09-09 13:11:59.586 Thread 'MainThread': missing ScriptRunContext! This warning can be ignored when running in bare mode.\n",
      "2025-09-09 13:11:59.587 Session state does not function when running a script without `streamlit run`\n",
      "2025-09-09 13:11:59.588 Thread 'MainThread': missing ScriptRunContext! This warning can be ignored when running in bare mode.\n",
      "2025-09-09 13:11:59.621 \n",
      "  \u001b[33m\u001b[1mWarning:\u001b[0m to view this Streamlit app on a browser, run it with the following\n",
      "  command:\n",
      "\n",
      "    streamlit run /opt/miniconda3/envs/ComputationalChemistry/lib/python3.11/site-packages/ipykernel_launcher.py [ARGUMENTS]\n",
      "2025-09-09 13:11:59.622 Thread 'MainThread': missing ScriptRunContext! This warning can be ignored when running in bare mode.\n",
      "2025-09-09 13:11:59.623 Thread 'MainThread': missing ScriptRunContext! This warning can be ignored when running in bare mode.\n",
      "2025-09-09 13:12:02.651 Thread 'MainThread': missing ScriptRunContext! This warning can be ignored when running in bare mode.\n",
      "2025-09-09 13:12:02.651 Thread 'MainThread': missing ScriptRunContext! This warning can be ignored when running in bare mode.\n",
      "2025-09-09 13:12:02.652 Thread 'MainThread': missing ScriptRunContext! This warning can be ignored when running in bare mode.\n",
      "2025-09-09 13:12:02.653 Thread 'MainThread': missing ScriptRunContext! This warning can be ignored when running in bare mode.\n",
      "2025-09-09 13:12:02.654 Thread 'MainThread': missing ScriptRunContext! This warning can be ignored when running in bare mode.\n",
      "2025-09-09 13:12:02.655 Thread 'MainThread': missing ScriptRunContext! This warning can be ignored when running in bare mode.\n",
      "2025-09-09 13:12:02.655 Thread 'MainThread': missing ScriptRunContext! This warning can be ignored when running in bare mode.\n",
      "2025-09-09 13:12:02.656 Thread 'MainThread': missing ScriptRunContext! This warning can be ignored when running in bare mode.\n"
     ]
    },
    {
     "data": {
      "text/plain": [
       "DeltaGenerator()"
      ]
     },
     "execution_count": 1,
     "metadata": {},
     "output_type": "execute_result"
    }
   ],
   "source": [
    "import streamlit as st\n",
    "\n",
    "from streamlit_ketcher import st_ketcher\n",
    "\n",
    "molecule = st.text_input(\"Molecule\", \"CCO\")\n",
    "smile_code = st_ketcher(molecule)\n",
    "st.markdown(f\"Smile code: ``{smile_code}``\")"
   ]
  },
  {
   "cell_type": "code",
   "execution_count": 6,
   "id": "d5b06f8a",
   "metadata": {},
   "outputs": [
    {
     "name": "stdout",
     "output_type": "stream",
     "text": [
      "Requirement already satisfied: rdeditor in /opt/miniconda3/envs/ComputationalChemistry/lib/python3.11/site-packages (0.5.1)\n",
      "Requirement already satisfied: PySide6 in /opt/miniconda3/envs/ComputationalChemistry/lib/python3.11/site-packages (from rdeditor) (6.9.2)\n",
      "Requirement already satisfied: numpy in /opt/miniconda3/envs/ComputationalChemistry/lib/python3.11/site-packages (from rdeditor) (2.3.2)\n",
      "Requirement already satisfied: rdkit in /opt/miniconda3/envs/ComputationalChemistry/lib/python3.11/site-packages (from rdeditor) (2025.3.6)\n",
      "Requirement already satisfied: pyqtdarktheme in /opt/miniconda3/envs/ComputationalChemistry/lib/python3.11/site-packages (from rdeditor) (2.1.0)\n",
      "Requirement already satisfied: darkdetect<0.8.0,>=0.7.1 in /opt/miniconda3/envs/ComputationalChemistry/lib/python3.11/site-packages (from pyqtdarktheme->rdeditor) (0.7.1)\n",
      "Requirement already satisfied: shiboken6==6.9.2 in /opt/miniconda3/envs/ComputationalChemistry/lib/python3.11/site-packages (from PySide6->rdeditor) (6.9.2)\n",
      "Requirement already satisfied: PySide6_Essentials==6.9.2 in /opt/miniconda3/envs/ComputationalChemistry/lib/python3.11/site-packages (from PySide6->rdeditor) (6.9.2)\n",
      "Requirement already satisfied: PySide6_Addons==6.9.2 in /opt/miniconda3/envs/ComputationalChemistry/lib/python3.11/site-packages (from PySide6->rdeditor) (6.9.2)\n",
      "Requirement already satisfied: Pillow in /opt/miniconda3/envs/ComputationalChemistry/lib/python3.11/site-packages (from rdkit->rdeditor) (11.3.0)\n"
     ]
    }
   ],
   "source": [
    "! pip install rdeditor"
   ]
  },
  {
   "cell_type": "code",
   "execution_count": null,
   "id": "17b7f9b8",
   "metadata": {},
   "outputs": [],
   "source": [
    "import os\n",
    "os.startfile(\"rdEditor\")"
   ]
  },
  {
   "cell_type": "code",
   "execution_count": 7,
   "id": "f7617bcb",
   "metadata": {},
   "outputs": [
    {
     "name": "stderr",
     "output_type": "stream",
     "text": [
      "ERROR:root:loglevel set to Error\n",
      "Error calling Python override of QMainWindow::closeEvent(): "
     ]
    },
    {
     "data": {
      "text/plain": [
       "0"
      ]
     },
     "execution_count": 7,
     "metadata": {},
     "output_type": "execute_result"
    }
   ],
   "source": [
    "os.system('rdEditor')"
   ]
  },
  {
   "cell_type": "code",
   "execution_count": 3,
   "id": "a6491066",
   "metadata": {},
   "outputs": [
    {
     "name": "stdout",
     "output_type": "stream",
     "text": [
      "Requirement already satisfied: rdkit-pypi in /opt/miniconda3/envs/ComputationalChemistry/lib/python3.11/site-packages (2022.9.5)\n",
      "Requirement already satisfied: py3Dmol in /opt/miniconda3/envs/ComputationalChemistry/lib/python3.11/site-packages (2.5.2)\n",
      "Collecting pymol-open-source\n",
      "  Downloading pymol_open_source-3.2.0a0-cp311-cp311-macosx_12_0_x86_64.whl.metadata (4.4 kB)\n",
      "Requirement already satisfied: numpy in /opt/miniconda3/envs/ComputationalChemistry/lib/python3.11/site-packages (from rdkit-pypi) (2.3.2)\n",
      "Requirement already satisfied: Pillow in /opt/miniconda3/envs/ComputationalChemistry/lib/python3.11/site-packages (from rdkit-pypi) (11.3.0)\n",
      "Downloading pymol_open_source-3.2.0a0-cp311-cp311-macosx_12_0_x86_64.whl (7.6 MB)\n",
      "\u001b[2K   \u001b[90m━━━━━━━━━━━━━━━━━━━━━━━━━━━━━━━━━━━━━━━━\u001b[0m \u001b[32m7.6/7.6 MB\u001b[0m \u001b[31m11.7 MB/s\u001b[0m  \u001b[33m0:00:00\u001b[0m eta \u001b[36m0:00:01\u001b[0m\n",
      "\u001b[?25hInstalling collected packages: pymol-open-source\n",
      "Successfully installed pymol-open-source-3.2.0a0\n"
     ]
    }
   ],
   "source": [
    "! pip install rdkit-pypi py3Dmol pymol-open-source"
   ]
  },
  {
   "cell_type": "code",
   "execution_count": 4,
   "id": "8f9de1cf",
   "metadata": {},
   "outputs": [
    {
     "ename": "ImportError",
     "evalue": "dlopen(/opt/miniconda3/envs/ComputationalChemistry/lib/python3.11/site-packages/pymol/_cmd.cpython-311-darwin.so, 0x0002): Library not loaded: @rpath/libpng16.16.dylib\n  Referenced from: <2AE7184A-ED06-34A5-8110-B65CEFC7C4F6> /opt/miniconda3/envs/ComputationalChemistry/lib/python3.11/site-packages/pymol/_cmd.cpython-311-darwin.so\n  Reason: tried: '/private/tmp/miniforge/envs/testing_env/lib/libpng16.16.dylib' (no such file), '/System/Volumes/Preboot/Cryptexes/OS/private/tmp/miniforge/envs/testing_env/lib/libpng16.16.dylib' (no such file), '/private/tmp/miniforge/envs/testing_env/lib/libpng16.16.dylib' (no such file), '/System/Volumes/Preboot/Cryptexes/OS/private/tmp/miniforge/envs/testing_env/lib/libpng16.16.dylib' (no such file), '/opt/miniconda3/envs/ComputationalChemistry/bin/../lib/libpng16.16.dylib' (no such file), '/opt/miniconda3/envs/ComputationalChemistry/bin/../lib/libpng16.16.dylib' (no such file)",
     "output_type": "error",
     "traceback": [
      "\u001b[31m---------------------------------------------------------------------------\u001b[39m",
      "\u001b[31mImportError\u001b[39m                               Traceback (most recent call last)",
      "\u001b[36mCell\u001b[39m\u001b[36m \u001b[39m\u001b[32mIn[4]\u001b[39m\u001b[32m, line 1\u001b[39m\n\u001b[32m----> \u001b[39m\u001b[32m1\u001b[39m \u001b[38;5;28;01mimport\u001b[39;00m\u001b[38;5;250m \u001b[39m\u001b[34;01mpymol\u001b[39;00m\n\u001b[32m      3\u001b[39m \u001b[38;5;66;03m# Start PyMOL GUI\u001b[39;00m\n\u001b[32m      4\u001b[39m pymol.finish_launching()\n",
      "\u001b[36mFile \u001b[39m\u001b[32m/opt/miniconda3/envs/ComputationalChemistry/lib/python3.11/site-packages/pymol/__init__.py:558\u001b[39m\n\u001b[32m    554\u001b[39m     \u001b[38;5;28;01mfrom\u001b[39;00m\u001b[38;5;250m \u001b[39m\u001b[34;01m.\u001b[39;00m\u001b[34;01mxwin\u001b[39;00m\u001b[38;5;250m \u001b[39m\u001b[38;5;28;01mimport\u001b[39;00m *\n\u001b[32m    556\u001b[39m \u001b[38;5;66;03m########## C MODULE ############################\u001b[39;00m\n\u001b[32m--> \u001b[39m\u001b[32m558\u001b[39m \u001b[38;5;28;01mimport\u001b[39;00m\u001b[38;5;250m \u001b[39m\u001b[34;01mpymol\u001b[39;00m\u001b[34;01m.\u001b[39;00m\u001b[34;01m_cmd\u001b[39;00m\n\u001b[32m    559\u001b[39m _cmd = sys.modules[\u001b[33m'\u001b[39m\u001b[33mpymol._cmd\u001b[39m\u001b[33m'\u001b[39m]\n\u001b[32m    561\u001b[39m get_capabilities = _cmd.get_capabilities\n",
      "\u001b[31mImportError\u001b[39m: dlopen(/opt/miniconda3/envs/ComputationalChemistry/lib/python3.11/site-packages/pymol/_cmd.cpython-311-darwin.so, 0x0002): Library not loaded: @rpath/libpng16.16.dylib\n  Referenced from: <2AE7184A-ED06-34A5-8110-B65CEFC7C4F6> /opt/miniconda3/envs/ComputationalChemistry/lib/python3.11/site-packages/pymol/_cmd.cpython-311-darwin.so\n  Reason: tried: '/private/tmp/miniforge/envs/testing_env/lib/libpng16.16.dylib' (no such file), '/System/Volumes/Preboot/Cryptexes/OS/private/tmp/miniforge/envs/testing_env/lib/libpng16.16.dylib' (no such file), '/private/tmp/miniforge/envs/testing_env/lib/libpng16.16.dylib' (no such file), '/System/Volumes/Preboot/Cryptexes/OS/private/tmp/miniforge/envs/testing_env/lib/libpng16.16.dylib' (no such file), '/opt/miniconda3/envs/ComputationalChemistry/bin/../lib/libpng16.16.dylib' (no such file), '/opt/miniconda3/envs/ComputationalChemistry/bin/../lib/libpng16.16.dylib' (no such file)"
     ]
    }
   ],
   "source": [
    "import pymol\n",
    "\n",
    "# Start PyMOL GUI\n",
    "pymol.finish_launching()"
   ]
  },
  {
   "cell_type": "code",
   "execution_count": 6,
   "id": "db1d5ca7",
   "metadata": {},
   "outputs": [
    {
     "data": {
      "application/3dmoljs_load.v0": "<div id=\"3dmolviewer_17574248505814312\"  style=\"position: relative; width: 400px; height: 400px;\">\n        <p id=\"3dmolwarning_17574248505814312\" style=\"background-color:#ffcccc;color:black\">3Dmol.js failed to load for some reason.  Please check your browser console for error messages.<br></p>\n        </div>\n<script>\n\nvar loadScriptAsync = function(uri){\n  return new Promise((resolve, reject) => {\n    //this is to ignore the existence of requirejs amd\n    var savedexports, savedmodule;\n    if (typeof exports !== 'undefined') savedexports = exports;\n    else exports = {}\n    if (typeof module !== 'undefined') savedmodule = module;\n    else module = {}\n\n    var tag = document.createElement('script');\n    tag.src = uri;\n    tag.async = true;\n    tag.onload = () => {\n        exports = savedexports;\n        module = savedmodule;\n        resolve();\n    };\n  var firstScriptTag = document.getElementsByTagName('script')[0];\n  firstScriptTag.parentNode.insertBefore(tag, firstScriptTag);\n});\n};\n\nif(typeof $3Dmolpromise === 'undefined') {\n$3Dmolpromise = null;\n  $3Dmolpromise = loadScriptAsync('https://cdn.jsdelivr.net/npm/3dmol@2.5.2/build/3Dmol-min.js');\n}\n\nvar viewer_17574248505814312 = null;\nvar warn = document.getElementById(\"3dmolwarning_17574248505814312\");\nif(warn) {\n    warn.parentNode.removeChild(warn);\n}\n$3Dmolpromise.then(function() {\nviewer_17574248505814312 = $3Dmol.createViewer(document.getElementById(\"3dmolviewer_17574248505814312\"),{backgroundColor:\"white\"});\nviewer_17574248505814312.zoomTo();\n\tviewer_17574248505814312.addModel(\"CCO\",\"smi\");\n\tviewer_17574248505814312.setStyle({\"stick\": {}});\n\tviewer_17574248505814312.zoomTo();\nviewer_17574248505814312.render();\n});\n</script>",
      "text/html": [
       "<div id=\"3dmolviewer_17574248505814312\"  style=\"position: relative; width: 400px; height: 400px;\">\n",
       "        <p id=\"3dmolwarning_17574248505814312\" style=\"background-color:#ffcccc;color:black\">3Dmol.js failed to load for some reason.  Please check your browser console for error messages.<br></p>\n",
       "        </div>\n",
       "<script>\n",
       "\n",
       "var loadScriptAsync = function(uri){\n",
       "  return new Promise((resolve, reject) => {\n",
       "    //this is to ignore the existence of requirejs amd\n",
       "    var savedexports, savedmodule;\n",
       "    if (typeof exports !== 'undefined') savedexports = exports;\n",
       "    else exports = {}\n",
       "    if (typeof module !== 'undefined') savedmodule = module;\n",
       "    else module = {}\n",
       "\n",
       "    var tag = document.createElement('script');\n",
       "    tag.src = uri;\n",
       "    tag.async = true;\n",
       "    tag.onload = () => {\n",
       "        exports = savedexports;\n",
       "        module = savedmodule;\n",
       "        resolve();\n",
       "    };\n",
       "  var firstScriptTag = document.getElementsByTagName('script')[0];\n",
       "  firstScriptTag.parentNode.insertBefore(tag, firstScriptTag);\n",
       "});\n",
       "};\n",
       "\n",
       "if(typeof $3Dmolpromise === 'undefined') {\n",
       "$3Dmolpromise = null;\n",
       "  $3Dmolpromise = loadScriptAsync('https://cdn.jsdelivr.net/npm/3dmol@2.5.2/build/3Dmol-min.js');\n",
       "}\n",
       "\n",
       "var viewer_17574248505814312 = null;\n",
       "var warn = document.getElementById(\"3dmolwarning_17574248505814312\");\n",
       "if(warn) {\n",
       "    warn.parentNode.removeChild(warn);\n",
       "}\n",
       "$3Dmolpromise.then(function() {\n",
       "viewer_17574248505814312 = $3Dmol.createViewer(document.getElementById(\"3dmolviewer_17574248505814312\"),{backgroundColor:\"white\"});\n",
       "viewer_17574248505814312.zoomTo();\n",
       "\tviewer_17574248505814312.addModel(\"CCO\",\"smi\");\n",
       "\tviewer_17574248505814312.setStyle({\"stick\": {}});\n",
       "\tviewer_17574248505814312.zoomTo();\n",
       "viewer_17574248505814312.render();\n",
       "});\n",
       "</script>"
      ]
     },
     "metadata": {},
     "output_type": "display_data"
    }
   ],
   "source": [
    "import py3Dmol\n",
    "\n",
    "# Create a viewer\n",
    "view = py3Dmol.view(width=400, height=400)\n",
    "view.addModel('CCO', 'smi')  # Example: ethanol in SMILES\n",
    "view.setStyle({'stick': {}})\n",
    "view.zoomTo()\n",
    "view.show()"
   ]
  }
 ],
 "metadata": {
  "kernelspec": {
   "display_name": "ComputationalChemistry",
   "language": "python",
   "name": "python3"
  },
  "language_info": {
   "codemirror_mode": {
    "name": "ipython",
    "version": 3
   },
   "file_extension": ".py",
   "mimetype": "text/x-python",
   "name": "python",
   "nbconvert_exporter": "python",
   "pygments_lexer": "ipython3",
   "version": "3.11.13"
  }
 },
 "nbformat": 4,
 "nbformat_minor": 5
}
